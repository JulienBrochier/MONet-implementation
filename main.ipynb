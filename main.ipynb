{
  "nbformat": 4,
  "nbformat_minor": 0,
  "metadata": {
    "colab": {
      "name": "main.ipynb",
      "provenance": [],
      "collapsed_sections": []
    },
    "kernelspec": {
      "name": "python3",
      "display_name": "Python 3"
    },
    "accelerator": "GPU"
  },
  "cells": [
    {
      "cell_type": "markdown",
      "metadata": {
        "id": "RlBBwnP5rGtp",
        "colab_type": "text"
      },
      "source": [
        ""
      ]
    },
    {
      "cell_type": "code",
      "metadata": {
        "id": "hq3arMlKrGcE",
        "colab_type": "code",
        "colab": {}
      },
      "source": [
        "import tensorflow as tf\n",
        "import tensorflow_probability as tfp\n",
        "import datetime\n",
        "import os\n",
        "import time\n",
        "from matplotlib import pyplot as plt\n",
        "from IPython import display\n",
        "from dataset_generator import Data\n",
        "from monet import Monet\n",
        "\n",
        "tf.random.set_seed(432100)\n",
        "\n",
        "def plot_loss(L1,L2,L3):\n",
        "    plt.figure()\n",
        "    # L1\n",
        "    plt.subplot(131)\n",
        "    plt.plot(L1)\n",
        "    plt.title(\"L1\")\n",
        "    # L2\n",
        "    plt.subplot(132)\n",
        "    plt.plot(L2)\n",
        "    plt.title(\"L2\")\n",
        "    # L3\n",
        "    plt.subplot(133)\n",
        "    plt.plot(L3)\n",
        "    plt.title(\"L3\")\n",
        "    plt.show()\n",
        "\n",
        "def show_evolution(save_path, dataset, input_channels, batch_size):\n",
        "    trained_model = Monet(input_width, input_channels=input_channels, nb_scopes=5, batch_size=batch_size)\n",
        "    trained_model.load_weights(save_path)\n",
        "    untrained_model = Monet(input_width, input_channels=1, nb_scopes=5, batch_size=batch_size)\n",
        "\n",
        "    \"Compute the first image, before and after training\"\n",
        "\n",
        "    raw_img = list(dataset.take(1).as_numpy_iterator())[0]\n",
        "    untrained_output = untrained_model(raw_img)\n",
        "    trained_ouput = trained_model(raw_img)\n",
        "\n",
        "    figure_titles = [\"unet_mask\",\"vae_mask\",\"reconstructed_img\"]\n",
        "    column_titles = [\"untrained_model\",\"trained_model\"]\n",
        "    for k in range(3):\n",
        "        fig = plt.figure(figsize=(trained_model.nb_scopes+1,2))\n",
        "        fig.suptitle(figure_titles[k])\n",
        "        for i,imgs in enumerate([untrained_output[k], trained_ouput[k]]):\n",
        "            for j in range(trained_model.nb_scopes):\n",
        "                #print(img)\n",
        "                img = tf.reshape(imgs[j],[128,128])\n",
        "                plt.subplot(trained_model.nb_scopes,2,(2*j)+i+1)\n",
        "                plt.axis('off')\n",
        "                plt.title(column_titles[i]+\" k=\"+str(j), fontsize=10)\n",
        "                plt.imshow(img, cmap='gray')\n",
        "        img = tf.reshape(raw_img,[128,128])\n",
        "        plt.subplot(trained_model.nb_scopes,2,(2*trained_model.nb_scopes))\n",
        "        plt.title(\"vanilla\", fontsize=10)\n",
        "        plt.imshow(img)\n",
        "    plt.show()\n",
        "\n",
        "batch_size = 20\n",
        "path = os.getcwd()\n",
        "data_dir = os.path.join(path,\"Data\")\n",
        "t0 = time.time()\n",
        "ds = Data(data_dir,batch_size).images_ds\n",
        "print(\"Dataset Creation : {} sec\".format(time.time()-t0))\n",
        "\n",
        "input_width = 128\n",
        "input_channels = 1\n",
        "save_path = './checkpoints/new_checkpoint'\n",
        "\n",
        "# For Tensorboard\n",
        "current_time = datetime.datetime.now().strftime(\"%Y%m%d-%H%M%S\")\n",
        "log_dir = 'logs/' + current_time +\"/train\"\n",
        "summary_writer = tf.summary.create_file_writer(log_dir)\n",
        "\n",
        "t0 = time.time()\n",
        "monet = Monet(input_width, input_channels=1, nb_scopes=5, batch_size=batch_size)\n",
        "print(\"Model Creation : {} sec\".format(time.time()-t0))\n",
        "L1,L2,L3 = monet.fit(ds.prefetch(tf.data.experimental.AUTOTUNE), save_path=save_path, summary_writer=summary_writer)"
      ],
      "execution_count": 0,
      "outputs": []
    },
    {
      "cell_type": "code",
      "metadata": {
        "id": "ARsd5OR76dvj",
        "colab_type": "code",
        "colab": {}
      },
      "source": [
        ""
      ],
      "execution_count": 0,
      "outputs": []
    }
  ]
}